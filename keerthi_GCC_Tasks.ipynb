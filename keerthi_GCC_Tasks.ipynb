{
  "nbformat": 4,
  "nbformat_minor": 0,
  "metadata": {
    "colab": {
      "provenance": [],
      "include_colab_link": true
    },
    "kernelspec": {
      "name": "python3",
      "display_name": "Python 3"
    },
    "language_info": {
      "name": "python"
    }
  },
  "cells": [
    {
      "cell_type": "markdown",
      "metadata": {
        "id": "view-in-github",
        "colab_type": "text"
      },
      "source": [
        "<a href=\"https://colab.research.google.com/github/keerthikorumilli/keerthikorumilli/blob/main/keerthi_GCC_Tasks.ipynb\" target=\"_parent\"><img src=\"https://colab.research.google.com/assets/colab-badge.svg\" alt=\"Open In Colab\"/></a>"
      ]
    },
    {
      "cell_type": "markdown",
      "source": [
        "\n",
        "\n",
        "Write a python program that it should consist of special char, numbers and chars.\n",
        " if there are even numbers of special chars Then 1) the series should start with even followed by odd \n",
        " Input: t9@a42&516 Output: 492561 If there are odd numbers of special chars then the output will be starting with odd followed by even\n",
        "  Input: 5u6@25g7#@ Output: 56527 If there are any number of additional digits append them at last\n",
        "\n",
        "\n"
      ],
      "metadata": {
        "id": "87OGOdSWAN5Q"
      }
    },
    {
      "cell_type": "code",
      "source": [
        "n = input()\n",
        "a = \"0123456789\"\n",
        "num=[]\n",
        "even=[]\n",
        "odd=[]\n",
        "\n",
        "for i in n:\n",
        "    if i in a:\n",
        "        num.append(int(i))\n",
        "print(num)\n",
        "for j in range(len(num)):\n",
        "    if num[j]%2==0:\n",
        "        even.append(num[j])\n",
        "    else:\n",
        "        odd.append(num[j])\n",
        "length=len(n)\n",
        "c=len(num)\n",
        "b=abs(length-c)\n",
        "combined_list=[]\n",
        "if b%2==0:\n",
        "    for i,j in zip(even,odd):\n",
        "        combined_list.append(i)\n",
        "        combined_list.append(j)\n",
        "else:\n",
        "    for i,j in zip(even,odd):\n",
        "        combined_list.append(j)\n",
        "        combined_list.append(i)\n",
        "if len(even)>len(odd):\n",
        "    combined_list.append(even[-1])\n",
        "elif len(odd)>len(even):\n",
        "    combined_list.appen"
      ],
      "metadata": {
        "colab": {
          "base_uri": "https://localhost:8080/"
        },
        "id": "mAZF0bOs2ioS",
        "outputId": "1bd75b6f-0e2f-4e64-c338-996054997938"
      },
      "execution_count": 1,
      "outputs": [
        {
          "output_type": "stream",
          "name": "stdout",
          "text": [
            "2 7 8\n",
            "[2, 7, 8]\n"
          ]
        }
      ]
    },
    {
      "cell_type": "markdown",
      "source": [
        "1)N=m+! Take mn matrix If any num is consecutive for 3 times either in row ,column ,diagonals print the num. if there multiple num print min of those num Ex: m=6 take 67 matrix 23456243 23 4 7 6 7 6 2 23 5 5 5 5 2 5 231 1 2 1 3 6 11119035 231 15127"
      ],
      "metadata": {
        "id": "5IMXD96q29Lp"
      }
    },
    {
      "cell_type": "code",
      "source": [
        "def find_consecutive_numbers(matrix):\n",
        "    m = len(matrix)\n",
        "    n = len(matrix[0])\n",
        "    \n",
        "    consecutive_nums = set()\n",
        "    \n",
        "    # Check rows\n",
        "    for i in range(m):\n",
        "        for j in range(n-2):\n",
        "            if matrix[i][j] == matrix[i][j+1] == matrix[i][j+2]:\n",
        "                consecutive_nums.add(matrix[i][j])\n",
        "    \n",
        "    # Check columns\n",
        "    for i in range(m-2):\n",
        "        for j in range(n):\n",
        "            if matrix[i][j] == matrix[i+1][j] == matrix[i+2][j]:\n",
        "                consecutive_nums.add(matrix[i][j])\n",
        "    \n",
        "    # Check diagonals\n",
        "    for i in range(m-2):\n",
        "        for j in range(n-2):\n",
        "            if matrix[i][j] == matrix[i+1][j+1] == matrix[i+2][j+2]:\n",
        "                consecutive_nums.add(matrix[i][j])\n",
        "            if matrix[i][j+2] == matrix[i+1][j+1] == matrix[i+2][j]:\n",
        "                consecutive_nums.add(matrix[i][j+2])\n",
        "    \n",
        "    if consecutive_nums:\n",
        "        return min(consecutive_nums)\n",
        "    else:\n",
        "        return None\n",
        "\n",
        "\n",
        "# Example matrix\n",
        "m = 6\n",
        "matrix = [\n",
        "    [2, 3, 4, 5, 6, 2, 4, 3],\n",
        "    [2, 3, 4, 5, 6, 2, 4, 3],\n",
        "    [5, 2, 5, 5, 5, 2, 5, 2],\n",
        "    [3, 1, 2, 1, 3, 6, 1, 1],\n",
        "    [1, 1, 1, 1, 9, 0, 3, 5],\n",
        "    [2, 3, 1, 1, 5, 1, 2, 7]\n",
        "]\n",
        "\n",
        "result = find_consecutive_numbers(matrix)\n",
        "print(\"Output:\", result)\n"
      ],
      "metadata": {
        "colab": {
          "base_uri": "https://localhost:8080/"
        },
        "id": "2kTdN1ua3DmR",
        "outputId": "4da96158-af7e-4041-c1c0-1fb0936efc99"
      },
      "execution_count": 2,
      "outputs": [
        {
          "output_type": "stream",
          "name": "stdout",
          "text": [
            "Output: 1\n"
          ]
        }
      ]
    },
    {
      "cell_type": "markdown",
      "source": [
        "3)Wrile a python program that it should consist of special chan numbers and chars. if there are even numbers of special chars Then I) the series should start with even followed by odd Input 19@ 42&516 Output 492561 If there are odd numbers of special chars then the oulput will be starting with odd followed by even Input5ub@2547 n@ Output56527 If there are any number of additional digits append them at last"
      ],
      "metadata": {
        "id": "ozM3C0Hc3TRJ"
      }
    },
    {
      "cell_type": "code",
      "source": [
        "def generate_output(input_string):\n",
        "    numbers = ''\n",
        "    chars = ''\n",
        "    special_chars = ''\n",
        "\n",
        "    for char in input_string:\n",
        "        if char.isdigit():\n",
        "            numbers += char\n",
        "        elif char.isalpha():\n",
        "            chars += char\n",
        "        else:\n",
        "            special_chars += char\n",
        "\n",
        "    if len(special_chars) % 2 == 0:\n",
        "        output = ''.join([n for n in numbers if int(n) % 2 == 0])\n",
        "        output += ''.join([n for n in numbers if int(n) % 2 != 0])\n",
        "    else:\n",
        "        output = ''.join([n for n in numbers if int(n) % 2 != 0])\n",
        "        output += ''.join([n for n in numbers if int(n) % 2 == 0])\n",
        "\n",
        "    output += chars\n",
        "    return output\n",
        "\n",
        "\n",
        "input_string = input(\"Enter the input string: \")\n",
        "output = generate_output(input_string)\n",
        "print(\"Output:\", output)\n"
      ],
      "metadata": {
        "colab": {
          "base_uri": "https://localhost:8080/"
        },
        "id": "uufh2kma3aLN",
        "outputId": "31cd3d7b-ab79-4cc9-d39c-ccceac29f156"
      },
      "execution_count": 3,
      "outputs": [
        {
          "output_type": "stream",
          "name": "stdout",
          "text": [
            "Enter the input string: KEERTHI KORUMILLI\n",
            "Output: KEERTHIKORUMILLI\n"
          ]
        }
      ]
    },
    {
      "cell_type": "markdown",
      "source": [
        "4)A string which is a mixture of letter and infeger and special char from which find the largest even number frem the available digit after removing the duplicates I an even number is not formed then return -I Ex: infosys@337 0/p: -I Hello 81@21349 0/p.983412\n",
        "\n",
        "[ ]\n"
      ],
      "metadata": {
        "id": "rkwfiXDJ3yYo"
      }
    },
    {
      "cell_type": "code",
      "source": [
        "def find_largest_even_number(input_string):\n",
        "    digits = []\n",
        "    for char in input_string:\n",
        "        if char.isdigit():\n",
        "            digits.append(int(char))\n",
        "    digits = list(set(digits))\n",
        "    even_digits = [digit for digit in digits if digit % 2 == 0]\n",
        "\n",
        "    if len(even_digits) == 0:\n",
        "        return \"-I\"\n",
        "    else:\n",
        "        return str(max(even_digits))\n",
        "\n",
        "\n",
        "input_string = input(\"Enter the string: \")\n",
        "largest_even_number = find_largest_even_number(input_string)\n",
        "print(\"Output:\", largest_even_number)\n"
      ],
      "metadata": {
        "colab": {
          "base_uri": "https://localhost:8080/"
        },
        "id": "2sS2BC8x35D2",
        "outputId": "3f11b24f-7875-4e0f-8c10-dca279dbf3b1"
      },
      "execution_count": 4,
      "outputs": [
        {
          "output_type": "stream",
          "name": "stdout",
          "text": [
            "Enter the string: KORUMILLI\n",
            "Output: -I\n"
          ]
        }
      ]
    }
  ]
}